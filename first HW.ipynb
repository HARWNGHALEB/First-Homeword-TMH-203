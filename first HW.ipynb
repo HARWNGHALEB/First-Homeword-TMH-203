{
 "cells": [
  {
   "cell_type": "markdown",
   "id": "5db9cc67",
   "metadata": {},
   "source": [
    "## Delta equation(Quadratic formula )\n",
    "\n",
    "The quadratic formula helps us solve any quadratic equation. First, we bring the equation to the form ax²+bx+c=0, where a, b, and c are coefficients. Then, we plug these coefficients in the formula: (-b±√(b²-4ac))/(2a) . See examples of using the formula to solve a variety of equations"
   ]
  },
  {
   "cell_type": "code",
   "execution_count": 20,
   "id": "b9ba8ee5",
   "metadata": {},
   "outputs": [
    {
     "name": "stdout",
     "output_type": "stream",
     "text": [
      "Enter A value:4\n",
      "Enter B value:50\n",
      "Enter c value:2\n",
      "delta= 2468 x1= 49.35793878699377 x2= -149.35793878699377\n"
     ]
    }
   ],
   "source": [
    "a=int(input(\"Enter A value:\"))\n",
    "b=int(input(\"Enter B value:\"))\n",
    "c=int(input(\"Enter c value:\"))\n",
    "delta=b**2-4*a*c\n",
    "if delta<0:\n",
    "    print(\"Delta=\",delta,\"THere is no solution for delta\")\n",
    "elif delta==0:\n",
    "    x1=x2=-b/2*a\n",
    "    print(\"Delta=\",delta,\"x1=\",x1,\"x2=\",x2)\n",
    "elif delta>0:\n",
    "    x1=-b+(delta**0.5)/2*a\n",
    "    x2=-b-delta**0.5/2*a\n",
    "    print(\"delta=\",delta,\"x1=\",x1,\"x2=\",x2)\n",
    "        "
   ]
  },
  {
   "cell_type": "markdown",
   "id": "96446eee",
   "metadata": {},
   "source": [
    "## Finding the distance between any two points on a coordinate plane or x-y plane."
   ]
  },
  {
   "cell_type": "code",
   "execution_count": 36,
   "id": "725813c0",
   "metadata": {},
   "outputs": [
    {
     "name": "stdout",
     "output_type": "stream",
     "text": [
      "Enter first point value on x plane:8\n",
      "Enter second point value on x plane:4\n",
      "Enter first point value on y plane:2\n",
      "Enter first point value on y plane:-1\n",
      "The distance between the two point= 5.0\n"
     ]
    }
   ],
   "source": [
    "x1=int(input(\"Enter first point value on x plane:\"))\n",
    "x2=int(input(\"Enter second point value on x plane:\"))\n",
    "y1=int(input(\"Enter first point value on y plane:\"))\n",
    "y2=int(input(\"Enter first point value on y plane:\"))\n",
    "d=((x1-x2)**2+(y1-y2)**2)**0.5\n",
    "print(\"The distance between the two point=\",d)"
   ]
  },
  {
   "cell_type": "markdown",
   "id": "b5e6be08",
   "metadata": {},
   "source": [
    "\n",
    "\n",
    "## Heron's formula,\n",
    "for finding the area of a triangle in terms of the lengths of its sides. In symbols, if a, b, and c are the lengths of the sides: Area = Square root of√s(s - a)(s - b)(s - c) where s is half the perimeter, or (a + b + c)/2"
   ]
  },
  {
   "cell_type": "code",
   "execution_count": 35,
   "id": "302a6f3d",
   "metadata": {},
   "outputs": [
    {
     "name": "stdout",
     "output_type": "stream",
     "text": [
      "Enter A side's length:15\n",
      "Enter B side's length:6\n",
      "Enter C side's length:20\n",
      "The area of triangle = 28.590863925387076\n"
     ]
    }
   ],
   "source": [
    "a=int(input(\"Enter A side's length:\"))\n",
    "b=int(input(\"Enter B side's length:\"))\n",
    "c=int(input(\"Enter C side's length:\"))\n",
    "s=(a+b+c)/ 2\n",
    "A=(s*(s-a)*(s-b)*(s-c))**0.5\n",
    "print(\"The area of triangle =\",A)"
   ]
  },
  {
   "cell_type": "code",
   "execution_count": null,
   "id": "b524acb0",
   "metadata": {},
   "outputs": [],
   "source": [
    "20.5"
   ]
  }
 ],
 "metadata": {
  "kernelspec": {
   "display_name": "Python 3 (ipykernel)",
   "language": "python",
   "name": "python3"
  },
  "language_info": {
   "codemirror_mode": {
    "name": "ipython",
    "version": 3
   },
   "file_extension": ".py",
   "mimetype": "text/x-python",
   "name": "python",
   "nbconvert_exporter": "python",
   "pygments_lexer": "ipython3",
   "version": "3.9.12"
  }
 },
 "nbformat": 4,
 "nbformat_minor": 5
}
